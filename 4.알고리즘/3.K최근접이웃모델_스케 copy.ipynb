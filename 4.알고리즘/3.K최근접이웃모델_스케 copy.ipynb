{
 "cells": [
  {
   "cell_type": "code",
   "execution_count": 6,
   "metadata": {},
   "outputs": [
    {
     "name": "stdout",
     "output_type": "stream",
     "text": [
      "훈련_Accuracy: 0.9145123384253819\n",
      "테스트_Accuracy: 0.858122001370802\n",
      "              precision    recall  f1-score   support\n",
      "\n",
      "        구매안함       0.88      0.96      0.92      1184\n",
      "          구매       0.70      0.43      0.53       275\n",
      "\n",
      "    accuracy                           0.86      1459\n",
      "   macro avg       0.79      0.69      0.72      1459\n",
      "weighted avg       0.85      0.86      0.84      1459\n",
      "\n",
      "분류결과:구매안함 0.6\n"
     ]
    }
   ],
   "source": [
    "import pandas as pd\n",
    "import numpy as np\n",
    "from sklearn.preprocessing import LabelEncoder\n",
    "from sklearn.model_selection import train_test_split   #데이터 셋 분리\n",
    "from sklearn.metrics import accuracy_score  #분류 평가\n",
    "from sklearn.metrics import classification_report\n",
    "from sklearn.preprocessing import OneHotEncoder\n",
    "from sklearn.compose import make_column_transformer\n",
    "\n",
    "# 경고메세지 끄기\n",
    "import warnings\n",
    "warnings.filterwarnings(action='ignore')\n",
    "\n",
    "from sklearn.neighbors import KNeighborsClassifier\n",
    "from sklearn.preprocessing import MinMaxScaler\n",
    "\n",
    "##########데이터 로드\n",
    "\n",
    "df = pd.read_csv('../data/Tourism_pre.CSV')\n",
    "labels = ['구매안함','구매']\n",
    "\n",
    "##########데이터 분석\n",
    "\n",
    "##########데이터 전처리\n",
    "\n",
    "y_target = df['ProdTaken']\n",
    "x_data = df.drop(['ProdTaken'],axis=1)\n",
    "\n",
    "x_train, x_test, y_train , y_test = train_test_split(x_data , y_target ,test_size=0.3, random_state=42,stratify=y_target)\n",
    "\n",
    "\n",
    "##########모델 학습\n",
    "\n",
    "transformer = MinMaxScaler()\n",
    "transformer.fit(x_train)\n",
    "x_train = transformer.transform(x_train)\n",
    "x_test = transformer.transform(x_test)\n",
    "\n",
    "##########모델 생성\n",
    "\n",
    "model = KNeighborsClassifier(n_neighbors=5, metric='minkowski', p=2, weights='uniform')\n",
    "\n",
    "##########모델 학습\n",
    "\n",
    "model.fit(x_train, y_train)\n",
    "\n",
    "##########모델 검증\n",
    "\n",
    "print(f'훈련_Accuracy: {model.score(x_train, y_train)}') \n",
    "print(f'테스트_Accuracy: {model.score(x_test, y_test)}') \n",
    "\n",
    "#평가 리포트\n",
    "y_predict = model.predict(x_test)\n",
    "print(classification_report(y_test,y_predict,target_names=labels))\n",
    "\n",
    "##########모델 예측\n",
    "\n",
    "x_real = np.array([\n",
    "    [20.0,1,3,6.0,2,1,3,3.0,1,3.0,2,1.0,1,2,1,0.0,2,20993.0]\n",
    "])\n",
    "\n",
    "x_real = transformer.transform(x_real)\n",
    "\n",
    "y_real_predict = model.predict(x_real)\n",
    "label = labels[y_real_predict[0]]\n",
    "\n",
    "y_real_proba = model.predict_proba(x_real)\n",
    "confidence = y_real_proba[0][y_real_proba[0].argmax()]\n",
    "\n",
    "print(f'분류결과:{label} {confidence}')"
   ]
  },
  {
   "cell_type": "code",
   "execution_count": 7,
   "metadata": {},
   "outputs": [
    {
     "name": "stdout",
     "output_type": "stream",
     "text": [
      "분류결과:구매안함 0.6\n"
     ]
    }
   ],
   "source": [
    "##########모델 예측\n",
    "\n",
    "x_real = np.array([\n",
    "    [20.0,1,3,6.0,2,1,3,3.0,1,3.0,2,1.0,1,2,1,0.0,2,20993.0]\n",
    "])\n",
    "x_real_oh = transformer.transform(pd.DataFrame(x_real, columns=x_data.columns))\n",
    "\n",
    "y_real_predict = model.predict(x_real_oh)\n",
    "label = labels[y_real_predict[0]]\n",
    "\n",
    "y_real_proba = model.predict_proba(x_real_oh)\n",
    "confidence = y_real_proba[0][y_real_proba[0].argmax()]\n",
    "print(f'분류결과:{label} {confidence}')"
   ]
  },
  {
   "attachments": {},
   "cell_type": "markdown",
   "metadata": {},
   "source": []
  }
 ],
 "metadata": {
  "kernelspec": {
   "display_name": "Python 3",
   "language": "python",
   "name": "python3"
  },
  "language_info": {
   "codemirror_mode": {
    "name": "ipython",
    "version": 3
   },
   "file_extension": ".py",
   "mimetype": "text/x-python",
   "name": "python",
   "nbconvert_exporter": "python",
   "pygments_lexer": "ipython3",
   "version": "3.8.5"
  },
  "orig_nbformat": 4
 },
 "nbformat": 4,
 "nbformat_minor": 2
}
