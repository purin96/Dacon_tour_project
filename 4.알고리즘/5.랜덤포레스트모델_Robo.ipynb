{
 "cells": [
  {
   "cell_type": "code",
   "execution_count": 4,
   "metadata": {},
   "outputs": [
    {
     "name": "stdout",
     "output_type": "stream",
     "text": [
      "훈련_Accuracy: 0.8439052908506285\n",
      "테스트_Accuracy: 0.8295841854124063\n",
      "              precision    recall  f1-score   support\n",
      "\n",
      "        구매안함       0.83      0.99      0.90      1191\n",
      "          구매       0.84      0.12      0.20       276\n",
      "\n",
      "    accuracy                           0.83      1467\n",
      "   macro avg       0.84      0.56      0.55      1467\n",
      "weighted avg       0.83      0.83      0.77      1467\n",
      "\n",
      "분류결과:구매안함 0.6836769350659914\n"
     ]
    }
   ],
   "source": [
    "import pandas as pd\n",
    "import numpy as np\n",
    "from sklearn.preprocessing import LabelEncoder\n",
    "from sklearn.model_selection import train_test_split   #데이터 셋 분리\n",
    "from sklearn.metrics import accuracy_score  #분류 평가\n",
    "from sklearn.metrics import classification_report\n",
    "from sklearn.preprocessing import OneHotEncoder\n",
    "from sklearn.compose import make_column_transformer\n",
    "\n",
    "# 경고메세지 끄기\n",
    "import warnings\n",
    "warnings.filterwarnings(action='ignore')\n",
    "\n",
    "from sklearn.preprocessing import RobustScaler\n",
    "from sklearn.ensemble import RandomForestClassifier\n",
    "from sklearn.pipeline import make_pipeline\n",
    "\n",
    "##########데이터 로드\n",
    "df = pd.read_csv('../data/2.csv')\n",
    "labels = ['구매안함','구매']\n",
    "\n",
    "##########데이터 분석\n",
    "\n",
    "##########데이터 전처리\n",
    "\n",
    "y_target = df['ProdTaken']\n",
    "x_data = df.drop(['ProdTaken'],axis=1)\n",
    "\n",
    "x_train, x_test, y_train , y_test = train_test_split(x_data , y_target ,test_size=0.3, random_state=42,stratify=y_target)\n",
    "\n",
    "##########모델 생성\n",
    "\n",
    "randomforest = RandomForestClassifier(random_state=43,max_depth=5)\n",
    "model = make_pipeline(RobustScaler(),randomforest)\n",
    "\n",
    "\n",
    "##########모델 학습\n",
    "\n",
    "model.fit(x_train, y_train)\n",
    "\n",
    "##########모델 검증\n",
    "\n",
    "print(f'훈련_Accuracy: {model.score(x_train, y_train)}') \n",
    "print(f'테스트_Accuracy: {model.score(x_test, y_test)}') \n",
    "\n",
    "#평가 리포트\n",
    "y_predict = model.predict(x_test)\n",
    "print(classification_report(y_test,y_predict,target_names=labels))\n",
    "\n",
    "##########모델 예측\n",
    "\n",
    "x_real = np.array([\n",
    "    [33.0,1,9.0,2.0,3.0,0.0,3.0,0.0,1,5,1.0,17909.0]\n",
    "])\n",
    "\n",
    "y_real_predict = model.predict(x_real)\n",
    "label = labels[y_real_predict[0]]\n",
    "y_real_proba = model.predict_proba(x_real)\n",
    "confidence = y_real_proba[0][y_real_proba[0].argmax()]\n",
    "\n",
    "print(f'분류결과:{label} {confidence}')"
   ]
  },
  {
   "cell_type": "code",
   "execution_count": null,
   "metadata": {},
   "outputs": [],
   "source": [
    "RandomForestClassifier"
   ]
  }
 ],
 "metadata": {
  "kernelspec": {
   "display_name": "Python 3",
   "language": "python",
   "name": "python3"
  },
  "language_info": {
   "codemirror_mode": {
    "name": "ipython",
    "version": 3
   },
   "file_extension": ".py",
   "mimetype": "text/x-python",
   "name": "python",
   "nbconvert_exporter": "python",
   "pygments_lexer": "ipython3",
   "version": "3.8.5"
  },
  "orig_nbformat": 4
 },
 "nbformat": 4,
 "nbformat_minor": 2
}
