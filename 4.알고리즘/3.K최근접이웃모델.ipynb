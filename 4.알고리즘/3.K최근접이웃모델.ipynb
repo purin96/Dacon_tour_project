{
 "cells": [
  {
   "cell_type": "code",
   "execution_count": 13,
   "metadata": {},
   "outputs": [
    {
     "name": "stdout",
     "output_type": "stream",
     "text": [
      "훈련_Accuracy: 0.842443729903537\n",
      "테스트_Accuracy: 0.7845944103612815\n",
      "              precision    recall  f1-score   support\n",
      "\n",
      "        구매안함       0.82      0.93      0.88      1191\n",
      "          구매       0.33      0.14      0.20       276\n",
      "\n",
      "    accuracy                           0.78      1467\n",
      "   macro avg       0.58      0.54      0.54      1467\n",
      "weighted avg       0.73      0.78      0.75      1467\n",
      "\n",
      "분류결과:구매안함 0.6\n"
     ]
    }
   ],
   "source": [
    "import pandas as pd\n",
    "import numpy as np\n",
    "from sklearn.preprocessing import LabelEncoder\n",
    "from sklearn.model_selection import train_test_split   #데이터 셋 분리\n",
    "from sklearn.metrics import accuracy_score  #분류 평가\n",
    "from sklearn.metrics import classification_report\n",
    "\n",
    "# 경고메세지 끄기\n",
    "import warnings\n",
    "warnings.filterwarnings(action='ignore')\n",
    "\n",
    "from sklearn.neighbors import KNeighborsClassifier\n",
    "\n",
    "##########데이터 로드\n",
    "\n",
    "df = pd.read_csv('../data/2.csv')\n",
    "labels = ['구매안함','구매']\n",
    "\n",
    "##########데이터 분석\n",
    "\n",
    "##########데이터 전처리\n",
    "\n",
    "\n",
    "x_data = df.drop(['ProdTaken'],axis=1)\n",
    "y_target = df['ProdTaken']\n",
    "\n",
    "x_train, x_test, y_train , y_test = train_test_split(x_data , y_target ,test_size=0.3, random_state=42,stratify=y_target)\n",
    "\n",
    "# print(x_train.head())\n",
    "\n",
    "##########모델 생성\n",
    "\n",
    "model = KNeighborsClassifier()\n",
    "# model = KNeighborsClassifier(n_neighbors=5)\n",
    "\n",
    "##########모델 학습\n",
    "\n",
    "model.fit(x_train, y_train)\n",
    "\n",
    "##########모델 검증\n",
    "print(f'훈련_Accuracy: {model.score(x_train, y_train)}') \n",
    "print(f'테스트_Accuracy: {model.score(x_test, y_test)}') \n",
    "\n",
    "\n",
    "\n",
    "# #평가 리포트\n",
    "y_predict = model.predict(x_test)\n",
    "print(classification_report(y_test,y_predict,target_names=labels))\n",
    "\n",
    "# ##########모델 예측\n",
    "\n",
    "x_real = np.array([\n",
    "    [333.0,1,9.0,2.0,3.0,0.0,3.0,0.0,1,5,1.0,17909.0]\n",
    "])\n",
    "\n",
    "y_real_predict = model.predict(x_real)\n",
    "label = labels[y_real_predict[0]]\n",
    "y_real_proba = model.predict_proba(x_real)\n",
    "confidence = y_real_proba[0][y_real_proba[0].argmax()]\n",
    "\n",
    "print(f'분류결과:{label} {confidence}')"
   ]
  },
  {
   "cell_type": "code",
   "execution_count": null,
   "metadata": {},
   "outputs": [],
   "source": []
  },
  {
   "attachments": {},
   "cell_type": "markdown",
   "metadata": {},
   "source": []
  }
 ],
 "metadata": {
  "kernelspec": {
   "display_name": "Python 3",
   "language": "python",
   "name": "python3"
  },
  "language_info": {
   "codemirror_mode": {
    "name": "ipython",
    "version": 3
   },
   "file_extension": ".py",
   "mimetype": "text/x-python",
   "name": "python",
   "nbconvert_exporter": "python",
   "pygments_lexer": "ipython3",
   "version": "3.8.5"
  },
  "orig_nbformat": 4
 },
 "nbformat": 4,
 "nbformat_minor": 2
}
