{
 "cells": [
  {
   "cell_type": "code",
   "execution_count": 23,
   "metadata": {},
   "outputs": [
    {
     "name": "stdout",
     "output_type": "stream",
     "text": [
      "0.8319623971797885\n",
      "0.8300205620287868\n",
      "              precision    recall  f1-score   support\n",
      "\n",
      "        구매안함       0.83      0.99      0.90      1184\n",
      "          구매       0.72      0.16      0.26       275\n",
      "\n",
      "    accuracy                           0.83      1459\n",
      "   macro avg       0.78      0.57      0.58      1459\n",
      "weighted avg       0.81      0.83      0.78      1459\n",
      "\n"
     ]
    }
   ],
   "source": [
    "import numpy as np\n",
    "import pandas as pd\n",
    "from sklearn.model_selection import train_test_split\n",
    "from sklearn.preprocessing import OneHotEncoder\n",
    "from sklearn.compose import make_column_transformer\n",
    "from sklearn.linear_model import LogisticRegression\n",
    "from sklearn.metrics import classification_report\n",
    "\n",
    "##########데이터 로드\n",
    "\n",
    "df = pd.read_csv('../data/Tourism_pre.CSV')\n",
    "labels = ['구매안함','구매']\n",
    "\n",
    "# ##########데이터 분석\n",
    "\n",
    "# ##########데이터 전처리\n",
    "\n",
    "x_data = df.drop(['ProdTaken'], axis=1)\n",
    "y_data = df['ProdTaken']\n",
    "\n",
    "# #test_size=0.3 학습용(7) : 테스트용 (3) 으로 분할\n",
    "# #random_state=777 동일한 학습/테스트용 데이터 세트를 생성 위해\n",
    "x_train, x_test, y_train, y_test = train_test_split(x_data, y_data, test_size=0.3, random_state=777, stratify=y_data)\n",
    "\n",
    "########### 인코딩\n",
    "transformer = make_column_transformer(\n",
    "    (OneHotEncoder(), ['TypeofContact','Occupation','Gender','ProductPitched','MaritalStatus','Designation']),\n",
    "    remainder='passthrough')\n",
    "\n",
    "transformer.fit(x_train)\n",
    "trans_data = transformer.transform(x_train)\n",
    "trans_df = pd.DataFrame(data=trans_data,columns=transformer.get_feature_names_out())\n",
    "trans_df\n",
    "x_train = transformer.transform(x_train) #트랜스포머의 transform() 함수는 결과를 넘파이 배열로 리턴\n",
    "x_test = transformer.transform(x_test)\n",
    "\n",
    "# ##########모델 생성\n",
    "\n",
    "model = LogisticRegression()\n",
    "\n",
    "# ##########모델 학습\n",
    "\n",
    "model.fit(x_train, y_train)\n",
    "\n",
    "# ##########모델 검증\n",
    "\n",
    "print(model.score(x_train, y_train)) #0.9904761904761905\n",
    "\n",
    "print(model.score(x_test, y_test)) #0.9333333333333333\n",
    "\n",
    "#평가 리포트\n",
    "y_predict = model.predict(x_test)\n",
    "print(classification_report(y_test,y_predict,target_names=labels))\n",
    "\n",
    "##########모델 예측\n",
    "\n",
    "# x_real = np.array([\n",
    "#     [200000,41,0,3,6,0,0,3,3,0,3,0,1,1,2,1,0,0,209936,1,200000,41,0,3,6,0,0,3,3,0,3,0,1,1,2]\n",
    "# ])\n",
    "\n",
    "# y_real_predict = model.predict(x_real)\n",
    "# label = labels[y_real_predict[0]]\n",
    "# y_real_proba = model.predict_proba(x_real)\n",
    "# confidence = y_real_proba[0][y_real_proba[0].argmax()]\n",
    "\n",
    "# print(f'분류결과:{label} {confidence}')"
   ]
  },
  {
   "cell_type": "code",
   "execution_count": 24,
   "metadata": {},
   "outputs": [
    {
     "name": "stdout",
     "output_type": "stream",
     "text": [
      "<class 'pandas.core.frame.DataFrame'>\n",
      "RangeIndex: 4863 entries, 0 to 4862\n",
      "Data columns (total 20 columns):\n",
      " #   Column                    Non-Null Count  Dtype  \n",
      "---  ------                    --------------  -----  \n",
      " 0   Unnamed: 0                4863 non-null   int64  \n",
      " 1   Age                       4863 non-null   float64\n",
      " 2   TypeofContact             4863 non-null   object \n",
      " 3   CityTier                  4863 non-null   int64  \n",
      " 4   DurationOfPitch           4863 non-null   float64\n",
      " 5   Occupation                4863 non-null   object \n",
      " 6   Gender                    4863 non-null   object \n",
      " 7   NumberOfPersonVisiting    4863 non-null   int64  \n",
      " 8   NumberOfFollowups         4863 non-null   float64\n",
      " 9   ProductPitched            4863 non-null   object \n",
      " 10  PreferredPropertyStar     4863 non-null   float64\n",
      " 11  MaritalStatus             4863 non-null   object \n",
      " 12  NumberOfTrips             4863 non-null   float64\n",
      " 13  Passport                  4863 non-null   int64  \n",
      " 14  PitchSatisfactionScore    4863 non-null   int64  \n",
      " 15  OwnCar                    4863 non-null   int64  \n",
      " 16  NumberOfChildrenVisiting  4863 non-null   float64\n",
      " 17  Designation               4863 non-null   object \n",
      " 18  MonthlyIncome             4863 non-null   float64\n",
      " 19  ProdTaken                 4863 non-null   int64  \n",
      "dtypes: float64(7), int64(7), object(6)\n",
      "memory usage: 760.0+ KB\n"
     ]
    }
   ],
   "source": [
    "df.info()"
   ]
  }
 ],
 "metadata": {
  "kernelspec": {
   "display_name": "Python 3",
   "language": "python",
   "name": "python3"
  },
  "language_info": {
   "codemirror_mode": {
    "name": "ipython",
    "version": 3
   },
   "file_extension": ".py",
   "mimetype": "text/x-python",
   "name": "python",
   "nbconvert_exporter": "python",
   "pygments_lexer": "ipython3",
   "version": "3.8.5"
  },
  "orig_nbformat": 4
 },
 "nbformat": 4,
 "nbformat_minor": 2
}
